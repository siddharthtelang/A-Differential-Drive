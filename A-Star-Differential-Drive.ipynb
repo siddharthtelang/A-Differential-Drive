{
 "metadata": {
  "language_info": {
   "codemirror_mode": {
    "name": "ipython",
    "version": 3
   },
   "file_extension": ".py",
   "mimetype": "text/x-python",
   "name": "python",
   "nbconvert_exporter": "python",
   "pygments_lexer": "ipython3",
   "version": "3.6.9-final"
  },
  "orig_nbformat": 2,
  "kernelspec": {
   "name": "python369jvsc74a57bd031f2aee4e71d21fbe5cf8b01ff0e069b9275f58929596ceb00d14d90e3e16cd6",
   "display_name": "Python 3.6.9 64-bit"
  },
  "metadata": {
   "interpreter": {
    "hash": "31f2aee4e71d21fbe5cf8b01ff0e069b9275f58929596ceb00d14d90e3e16cd6"
   }
  }
 },
 "nbformat": 4,
 "nbformat_minor": 2,
 "cells": [
  {
   "cell_type": "code",
   "execution_count": 1,
   "metadata": {},
   "outputs": [],
   "source": [
    "from Obstacle import *\n",
    "from Visualization import *\n",
    "import numpy as np\n",
    "import cv2\n",
    "import matplotlib.pyplot as plt\n",
    "import matplotlib.patches as patches\n",
    "from Utils.Node import *\n",
    "import math\n",
    "import queue\n",
    "\n",
    "wheel_radius = 0.038\n",
    "wheel_distance = 0.354"
   ]
  },
  {
   "cell_type": "code",
   "execution_count": 2,
   "metadata": {},
   "outputs": [],
   "source": [
    "obs = Obstacle(0.0)\n",
    "viz = Visualization(obs)"
   ]
  },
  {
   "cell_type": "code",
   "execution_count": 3,
   "metadata": {},
   "outputs": [],
   "source": [
    "# fig, ax = plt.subplots()\n",
    "# ax.set(xlim=(0, 10), ylim = (0,10))\n",
    "# obs = Obstacle(0.0)\n",
    "# viz = Visualization(obs)\n",
    "# ax = viz.addObstacles2Map(ax)\n",
    "# ax.set_aspect(\"equal\")\n",
    "# # plt.show()"
   ]
  },
  {
   "cell_type": "code",
   "execution_count": 4,
   "metadata": {},
   "outputs": [],
   "source": [
    "def checkGoalReached(current_node, goal_state, thresh_radius):\n",
    "    current_state = current_node.getState()\n",
    "    radius_sq = np.square(current_state[0] - goal_state[0]) + np.square(current_state[1] - goal_state[1])\n",
    "    if radius_sq < thresh_radius**2:\n",
    "        return True\n",
    "    else:\n",
    "        return False"
   ]
  },
  {
   "cell_type": "code",
   "execution_count": 5,
   "metadata": {},
   "outputs": [],
   "source": [
    "def halfRound(n):\n",
    "    return round(2*n)/2"
   ]
  },
  {
   "cell_type": "code",
   "execution_count": 6,
   "metadata": {},
   "outputs": [],
   "source": [
    "def computeHeuristicCost(current_state, goal_state):\n",
    "    cost = 0.0\n",
    "    if current_state is not None:\n",
    "        cost =  ((current_state[0]-goal_state[0])**2 + (current_state[1]-goal_state[1])**2)**(0.5)\n",
    "    return cost"
   ]
  },
  {
   "cell_type": "code",
   "execution_count": 7,
   "metadata": {},
   "outputs": [],
   "source": [
    "def checkVisited(node, node_array, goal_state, threshold=0.5):\n",
    "    result = False\n",
    "    node_state = node.getState()\n",
    "    x = node_state[0]\n",
    "    y = node_state[1]\n",
    "    theta = node_state[2]\n",
    "    x = int(halfRound(x)/threshold)\n",
    "    y = int(halfRound(y)/threshold)\n",
    "\n",
    "    if (node.getCost() + computeHeuristicCost(node_state, goal_state) < node_array[x, y, theta]):\n",
    "        result = True\n",
    "    return result"
   ]
  },
  {
   "cell_type": "code",
   "execution_count": 8,
   "metadata": {},
   "outputs": [],
   "source": [
    "def toRadian(angle):\n",
    "    return np.pi * angle / 180\n",
    "def toDegree(angle):\n",
    "    return 180 * angle / np.pi"
   ]
  },
  {
   "cell_type": "code",
   "execution_count": 9,
   "metadata": {},
   "outputs": [],
   "source": [
    "def getBranches(node, T, w1, w2, obs):\n",
    "    actions=[[w1, w1], [w2, w2], [w1, 0], [0, w1], [w1, w2], [w2, w1], [0, w2], [w2, 0]]\n",
    "    state = node.getState()\n",
    "    branches = []\n",
    "\n",
    "    for action in actions:\n",
    "        new_state, path_array, cost = move(state, action, T, obs)\n",
    "        if new_state is not None:\n",
    "            branch_node = Node(new_state, node, action, node.getCost() + cost, path_array)\n",
    "            branches.append(branch_node)\n",
    "      \n",
    "    return branches\n",
    "\n"
   ]
  },
  {
   "cell_type": "code",
   "execution_count": 10,
   "metadata": {},
   "outputs": [],
   "source": [
    "def move(state, action, T, obs):\n",
    "    t = 0\n",
    "    dt = 0.1\n",
    "    \n",
    "    Xi, Yi, thetai = state\n",
    "    thetai = toRadian(thetai)\n",
    "\n",
    "    wL, wR = action\n",
    "\n",
    "    Xn = Xi\n",
    "    Yn = Yi\n",
    "    thetan = thetai\n",
    "\n",
    "    path_array = []\n",
    "    cost = 0.0\n",
    "    path_array.append([Xn, Yn])\n",
    "    while t<T:\n",
    "        t = t + dt\n",
    "        dx = 0.5 * wheel_radius * (wL + wR) * math.cos(thetan) * dt\n",
    "        dy = 0.5 * wheel_radius * (wL + wR) * math.sin(thetan) * dt\n",
    "        Xn += dx\n",
    "        Yn += dy\n",
    "        thetan += (wheel_radius / wheel_distance) * (wL - wR) * dt\n",
    "        cost += math.sqrt(math.pow(dx,2) + math.pow(dy,2))\n",
    "        path_array.append([Xn, Yn])\n",
    "        \n",
    "        if obs.isInObstacleSpace(Xn, Yn):\n",
    "            return None, None, None\n",
    "        \n",
    "    thetan = int(toDegree(thetan))\n",
    "    return [Xn, Yn, thetan] , path_array, cost"
   ]
  },
  {
   "cell_type": "code",
   "execution_count": null,
   "metadata": {},
   "outputs": [],
   "source": []
  },
  {
   "cell_type": "code",
   "execution_count": 16,
   "metadata": {
    "tags": []
   },
   "outputs": [
    {
     "output_type": "stream",
     "name": "stdout",
     "text": [
      "Finding path.........\nInside circle 1; avoid\nInside circle 1; avoid\nGoal reached\nThe cost of path:  0.1045\n"
     ]
    }
   ],
   "source": [
    "h,w = 10,10\n",
    "threshold = 0.5\n",
    "start_point = [1,1,0]\n",
    "goal_state = [1,2]\n",
    "w1, w2 = 5, 10\n",
    "nodes = queue.PriorityQueue()\n",
    "init_node = Node(start_point, None, None, 0, None)\n",
    "nodes.put((init_node.getCost(), init_node))\n",
    "traversed_nodes = []\n",
    "\n",
    "goal_reached = False\n",
    "node_array = np.array([[[math.inf for k in range(360)] for j in range(int(h/threshold))] for i in range(int(w/threshold))])\n",
    "\n",
    "full_path = None\n",
    "goal_reached = False\n",
    "print('Finding path.........')\n",
    "\n",
    "while (not nodes.empty()):\n",
    "    current_node = nodes.get()[1]\n",
    "    traversed_nodes.append(current_node)\n",
    "\n",
    "    if checkGoalReached(current_node, goal_state,1):\n",
    "        print('Goal reached')\n",
    "        print(\"The cost of path: \", current_node.getCost())\n",
    "        full_path, node_path = current_node.getFullPath()\n",
    "        goal_reached = True\n",
    "\n",
    "    else:\n",
    "        branches = getBranches(current_node, 1, w1, w2, obs)\n",
    "        for branch_node in branches:\n",
    "            branch_state = branch_node.getState()\n",
    "            if checkVisited(branch_node, node_array, goal_state, threshold=0.5):\n",
    "                node_array[int(halfRound(branch_state[0])/threshold), int(halfRound(branch_state[1])/threshold), branch_state[2]] = branch_node.getCost() + computeHeuristicCost(branch_state, goal_state)\n",
    "                nodes.put((branch_node.getCost() + computeHeuristicCost(branch_state, goal_state), branch_node))\n",
    "    if (goal_reached): break\n",
    "\n",
    "\n",
    "        "
   ]
  },
  {
   "cell_type": "code",
   "execution_count": null,
   "metadata": {},
   "outputs": [],
   "source": []
  },
  {
   "cell_type": "code",
   "execution_count": 17,
   "metadata": {
    "tags": []
   },
   "outputs": [
    {
     "output_type": "stream",
     "name": "stdout",
     "text": [
      "None\n[[1.0095, 1.0], [1.018986319876177, 1.0005096422341677], [1.0284316387799985, 1.0015274589195833], [1.0378087539468013, 1.0030505187176604], [1.0470906590404623, 1.0050744351764773], [1.0562506219323513, 1.0075933793638734], [1.065262261690558, 1.0106000966549251], [1.0740996245576635, 1.014085927625455], [1.0827372586982382, 1.0180408329913997], [1.0911502875007917, 1.0224534225222086], [1.099314481223062, 1.027310987845006]]\n"
     ]
    },
    {
     "output_type": "display_data",
     "data": {
      "text/plain": "<Figure size 720x720 with 1 Axes>",
      "image/svg+xml": "<?xml version=\"1.0\" encoding=\"utf-8\" standalone=\"no\"?>\n<!DOCTYPE svg PUBLIC \"-//W3C//DTD SVG 1.1//EN\"\n  \"http://www.w3.org/Graphics/SVG/1.1/DTD/svg11.dtd\">\n<!-- Created with matplotlib (https://matplotlib.org/) -->\n<svg height=\"578.477344pt\" version=\"1.1\" viewBox=\"0 0 584.0875 578.477344\" width=\"584.0875pt\" xmlns=\"http://www.w3.org/2000/svg\" xmlns:xlink=\"http://www.w3.org/1999/xlink\">\n <metadata>\n  <rdf:RDF xmlns:cc=\"http://creativecommons.org/ns#\" xmlns:dc=\"http://purl.org/dc/elements/1.1/\" xmlns:rdf=\"http://www.w3.org/1999/02/22-rdf-syntax-ns#\">\n   <cc:Work>\n    <dc:type rdf:resource=\"http://purl.org/dc/dcmitype/StillImage\"/>\n    <dc:date>2021-04-19T02:52:43.905135</dc:date>\n    <dc:format>image/svg+xml</dc:format>\n    <dc:creator>\n     <cc:Agent>\n      <dc:title>Matplotlib v3.3.3, https://matplotlib.org/</dc:title>\n     </cc:Agent>\n    </dc:creator>\n   </cc:Work>\n  </rdf:RDF>\n </metadata>\n <defs>\n  <style type=\"text/css\">*{stroke-linecap:butt;stroke-linejoin:round;}</style>\n </defs>\n <g id=\"figure_1\">\n  <g id=\"patch_1\">\n   <path d=\"M 0 578.477344 \nL 584.0875 578.477344 \nL 584.0875 0 \nL 0 0 \nz\n\" style=\"fill:none;\"/>\n  </g>\n  <g id=\"axes_1\">\n   <g id=\"patch_2\">\n    <path d=\"M 26.925 554.599219 \nL 570.525 554.599219 \nL 570.525 10.999219 \nL 26.925 10.999219 \nz\n\" style=\"fill:#ffffff;\"/>\n   </g>\n   <g id=\"patch_3\">\n    <path clip-path=\"url(#pb8c04dbb4d)\" d=\"M 30.89328 333.190939 \nL 131.67672 333.190939 \nL 131.67672 232.407499 \nL 30.89328 232.407499 \nz\n\" style=\"fill:none;stroke:#ff0000;stroke-linejoin:miter;\"/>\n   </g>\n   <g id=\"patch_4\">\n    <path clip-path=\"url(#pb8c04dbb4d)\" d=\"M 221.15328 333.190939 \nL 376.29672 333.190939 \nL 376.29672 232.407499 \nL 221.15328 232.407499 \nz\n\" style=\"fill:none;stroke:#ff0000;stroke-linejoin:miter;\"/>\n   </g>\n   <g id=\"patch_5\">\n    <path clip-path=\"url(#pb8c04dbb4d)\" d=\"M 411.41328 455.500939 \nL 512.19672 455.500939 \nL 512.19672 327.537499 \nL 411.41328 327.537499 \nz\n\" style=\"fill:none;stroke:#ff0000;stroke-linejoin:miter;\"/>\n   </g>\n   <g id=\"patch_6\">\n    <path clip-path=\"url(#pb8c04dbb4d)\" d=\"M 135.645 509.860939 \nC 152.61315 509.860939 168.888614 503.119421 180.886908 491.121127 \nC 192.885202 479.122833 199.62672 462.847369 199.62672 445.879219 \nC 199.62672 428.911068 192.885202 412.635605 180.886908 400.637311 \nC 168.888614 388.639016 152.61315 381.897499 135.645 381.897499 \nC 118.67685 381.897499 102.401386 388.639016 90.403092 400.637311 \nC 78.404798 412.635605 71.66328 428.911068 71.66328 445.879219 \nC 71.66328 462.847369 78.404798 479.122833 90.403092 491.121127 \nC 102.401386 503.119421 118.67685 509.860939 135.645 509.860939 \nz\n\" style=\"fill:none;stroke:#ff0000;stroke-linejoin:miter;\"/>\n   </g>\n   <g id=\"patch_7\">\n    <path clip-path=\"url(#pb8c04dbb4d)\" d=\"M 135.645 183.700939 \nC 152.61315 183.700939 168.888614 176.959421 180.886908 164.961127 \nC 192.885202 152.962833 199.62672 136.687369 199.62672 119.719219 \nC 199.62672 102.751068 192.885202 86.475605 180.886908 74.477311 \nC 168.888614 62.479016 152.61315 55.737499 135.645 55.737499 \nC 118.67685 55.737499 102.401386 62.479016 90.403092 74.477311 \nC 78.404798 86.475605 71.66328 102.751068 71.66328 119.719219 \nC 71.66328 136.687369 78.404798 152.962833 90.403092 164.961127 \nC 102.401386 176.959421 118.67685 183.700939 135.645 183.700939 \nz\n\" style=\"fill:none;stroke:#ff0000;stroke-linejoin:miter;\"/>\n   </g>\n   <g id=\"matplotlib.axis_1\">\n    <g id=\"xtick_1\">\n     <g id=\"line2d_1\">\n      <defs>\n       <path d=\"M 0 0 \nL 0 3.5 \n\" id=\"mc3d464989a\" style=\"stroke:#000000;stroke-width:0.8;\"/>\n      </defs>\n      <g>\n       <use style=\"stroke:#000000;stroke-width:0.8;\" x=\"26.925\" xlink:href=\"#mc3d464989a\" y=\"554.599219\"/>\n      </g>\n     </g>\n     <g id=\"text_1\">\n      <!-- 0 -->\n      <g transform=\"translate(23.74375 569.197656)scale(0.1 -0.1)\">\n       <defs>\n        <path d=\"M 31.78125 66.40625 \nQ 24.171875 66.40625 20.328125 58.90625 \nQ 16.5 51.421875 16.5 36.375 \nQ 16.5 21.390625 20.328125 13.890625 \nQ 24.171875 6.390625 31.78125 6.390625 \nQ 39.453125 6.390625 43.28125 13.890625 \nQ 47.125 21.390625 47.125 36.375 \nQ 47.125 51.421875 43.28125 58.90625 \nQ 39.453125 66.40625 31.78125 66.40625 \nz\nM 31.78125 74.21875 \nQ 44.046875 74.21875 50.515625 64.515625 \nQ 56.984375 54.828125 56.984375 36.375 \nQ 56.984375 17.96875 50.515625 8.265625 \nQ 44.046875 -1.421875 31.78125 -1.421875 \nQ 19.53125 -1.421875 13.0625 8.265625 \nQ 6.59375 17.96875 6.59375 36.375 \nQ 6.59375 54.828125 13.0625 64.515625 \nQ 19.53125 74.21875 31.78125 74.21875 \nz\n\" id=\"DejaVuSans-48\"/>\n       </defs>\n       <use xlink:href=\"#DejaVuSans-48\"/>\n      </g>\n     </g>\n    </g>\n    <g id=\"xtick_2\">\n     <g id=\"line2d_2\">\n      <g>\n       <use style=\"stroke:#000000;stroke-width:0.8;\" x=\"135.645\" xlink:href=\"#mc3d464989a\" y=\"554.599219\"/>\n      </g>\n     </g>\n     <g id=\"text_2\">\n      <!-- 2 -->\n      <g transform=\"translate(132.46375 569.197656)scale(0.1 -0.1)\">\n       <defs>\n        <path d=\"M 19.1875 8.296875 \nL 53.609375 8.296875 \nL 53.609375 0 \nL 7.328125 0 \nL 7.328125 8.296875 \nQ 12.9375 14.109375 22.625 23.890625 \nQ 32.328125 33.6875 34.8125 36.53125 \nQ 39.546875 41.84375 41.421875 45.53125 \nQ 43.3125 49.21875 43.3125 52.78125 \nQ 43.3125 58.59375 39.234375 62.25 \nQ 35.15625 65.921875 28.609375 65.921875 \nQ 23.96875 65.921875 18.8125 64.3125 \nQ 13.671875 62.703125 7.8125 59.421875 \nL 7.8125 69.390625 \nQ 13.765625 71.78125 18.9375 73 \nQ 24.125 74.21875 28.421875 74.21875 \nQ 39.75 74.21875 46.484375 68.546875 \nQ 53.21875 62.890625 53.21875 53.421875 \nQ 53.21875 48.921875 51.53125 44.890625 \nQ 49.859375 40.875 45.40625 35.40625 \nQ 44.1875 33.984375 37.640625 27.21875 \nQ 31.109375 20.453125 19.1875 8.296875 \nz\n\" id=\"DejaVuSans-50\"/>\n       </defs>\n       <use xlink:href=\"#DejaVuSans-50\"/>\n      </g>\n     </g>\n    </g>\n    <g id=\"xtick_3\">\n     <g id=\"line2d_3\">\n      <g>\n       <use style=\"stroke:#000000;stroke-width:0.8;\" x=\"244.365\" xlink:href=\"#mc3d464989a\" y=\"554.599219\"/>\n      </g>\n     </g>\n     <g id=\"text_3\">\n      <!-- 4 -->\n      <g transform=\"translate(241.18375 569.197656)scale(0.1 -0.1)\">\n       <defs>\n        <path d=\"M 37.796875 64.3125 \nL 12.890625 25.390625 \nL 37.796875 25.390625 \nz\nM 35.203125 72.90625 \nL 47.609375 72.90625 \nL 47.609375 25.390625 \nL 58.015625 25.390625 \nL 58.015625 17.1875 \nL 47.609375 17.1875 \nL 47.609375 0 \nL 37.796875 0 \nL 37.796875 17.1875 \nL 4.890625 17.1875 \nL 4.890625 26.703125 \nz\n\" id=\"DejaVuSans-52\"/>\n       </defs>\n       <use xlink:href=\"#DejaVuSans-52\"/>\n      </g>\n     </g>\n    </g>\n    <g id=\"xtick_4\">\n     <g id=\"line2d_4\">\n      <g>\n       <use style=\"stroke:#000000;stroke-width:0.8;\" x=\"353.085\" xlink:href=\"#mc3d464989a\" y=\"554.599219\"/>\n      </g>\n     </g>\n     <g id=\"text_4\">\n      <!-- 6 -->\n      <g transform=\"translate(349.90375 569.197656)scale(0.1 -0.1)\">\n       <defs>\n        <path d=\"M 33.015625 40.375 \nQ 26.375 40.375 22.484375 35.828125 \nQ 18.609375 31.296875 18.609375 23.390625 \nQ 18.609375 15.53125 22.484375 10.953125 \nQ 26.375 6.390625 33.015625 6.390625 \nQ 39.65625 6.390625 43.53125 10.953125 \nQ 47.40625 15.53125 47.40625 23.390625 \nQ 47.40625 31.296875 43.53125 35.828125 \nQ 39.65625 40.375 33.015625 40.375 \nz\nM 52.59375 71.296875 \nL 52.59375 62.3125 \nQ 48.875 64.0625 45.09375 64.984375 \nQ 41.3125 65.921875 37.59375 65.921875 \nQ 27.828125 65.921875 22.671875 59.328125 \nQ 17.53125 52.734375 16.796875 39.40625 \nQ 19.671875 43.65625 24.015625 45.921875 \nQ 28.375 48.1875 33.59375 48.1875 \nQ 44.578125 48.1875 50.953125 41.515625 \nQ 57.328125 34.859375 57.328125 23.390625 \nQ 57.328125 12.15625 50.6875 5.359375 \nQ 44.046875 -1.421875 33.015625 -1.421875 \nQ 20.359375 -1.421875 13.671875 8.265625 \nQ 6.984375 17.96875 6.984375 36.375 \nQ 6.984375 53.65625 15.1875 63.9375 \nQ 23.390625 74.21875 37.203125 74.21875 \nQ 40.921875 74.21875 44.703125 73.484375 \nQ 48.484375 72.75 52.59375 71.296875 \nz\n\" id=\"DejaVuSans-54\"/>\n       </defs>\n       <use xlink:href=\"#DejaVuSans-54\"/>\n      </g>\n     </g>\n    </g>\n    <g id=\"xtick_5\">\n     <g id=\"line2d_5\">\n      <g>\n       <use style=\"stroke:#000000;stroke-width:0.8;\" x=\"461.805\" xlink:href=\"#mc3d464989a\" y=\"554.599219\"/>\n      </g>\n     </g>\n     <g id=\"text_5\">\n      <!-- 8 -->\n      <g transform=\"translate(458.62375 569.197656)scale(0.1 -0.1)\">\n       <defs>\n        <path d=\"M 31.78125 34.625 \nQ 24.75 34.625 20.71875 30.859375 \nQ 16.703125 27.09375 16.703125 20.515625 \nQ 16.703125 13.921875 20.71875 10.15625 \nQ 24.75 6.390625 31.78125 6.390625 \nQ 38.8125 6.390625 42.859375 10.171875 \nQ 46.921875 13.96875 46.921875 20.515625 \nQ 46.921875 27.09375 42.890625 30.859375 \nQ 38.875 34.625 31.78125 34.625 \nz\nM 21.921875 38.8125 \nQ 15.578125 40.375 12.03125 44.71875 \nQ 8.5 49.078125 8.5 55.328125 \nQ 8.5 64.0625 14.71875 69.140625 \nQ 20.953125 74.21875 31.78125 74.21875 \nQ 42.671875 74.21875 48.875 69.140625 \nQ 55.078125 64.0625 55.078125 55.328125 \nQ 55.078125 49.078125 51.53125 44.71875 \nQ 48 40.375 41.703125 38.8125 \nQ 48.828125 37.15625 52.796875 32.3125 \nQ 56.78125 27.484375 56.78125 20.515625 \nQ 56.78125 9.90625 50.3125 4.234375 \nQ 43.84375 -1.421875 31.78125 -1.421875 \nQ 19.734375 -1.421875 13.25 4.234375 \nQ 6.78125 9.90625 6.78125 20.515625 \nQ 6.78125 27.484375 10.78125 32.3125 \nQ 14.796875 37.15625 21.921875 38.8125 \nz\nM 18.3125 54.390625 \nQ 18.3125 48.734375 21.84375 45.5625 \nQ 25.390625 42.390625 31.78125 42.390625 \nQ 38.140625 42.390625 41.71875 45.5625 \nQ 45.3125 48.734375 45.3125 54.390625 \nQ 45.3125 60.0625 41.71875 63.234375 \nQ 38.140625 66.40625 31.78125 66.40625 \nQ 25.390625 66.40625 21.84375 63.234375 \nQ 18.3125 60.0625 18.3125 54.390625 \nz\n\" id=\"DejaVuSans-56\"/>\n       </defs>\n       <use xlink:href=\"#DejaVuSans-56\"/>\n      </g>\n     </g>\n    </g>\n    <g id=\"xtick_6\">\n     <g id=\"line2d_6\">\n      <g>\n       <use style=\"stroke:#000000;stroke-width:0.8;\" x=\"570.525\" xlink:href=\"#mc3d464989a\" y=\"554.599219\"/>\n      </g>\n     </g>\n     <g id=\"text_6\">\n      <!-- 10 -->\n      <g transform=\"translate(564.1625 569.197656)scale(0.1 -0.1)\">\n       <defs>\n        <path d=\"M 12.40625 8.296875 \nL 28.515625 8.296875 \nL 28.515625 63.921875 \nL 10.984375 60.40625 \nL 10.984375 69.390625 \nL 28.421875 72.90625 \nL 38.28125 72.90625 \nL 38.28125 8.296875 \nL 54.390625 8.296875 \nL 54.390625 0 \nL 12.40625 0 \nz\n\" id=\"DejaVuSans-49\"/>\n       </defs>\n       <use xlink:href=\"#DejaVuSans-49\"/>\n       <use x=\"63.623047\" xlink:href=\"#DejaVuSans-48\"/>\n      </g>\n     </g>\n    </g>\n   </g>\n   <g id=\"matplotlib.axis_2\">\n    <g id=\"ytick_1\">\n     <g id=\"line2d_7\">\n      <defs>\n       <path d=\"M 0 0 \nL -3.5 0 \n\" id=\"m9cb25f511c\" style=\"stroke:#000000;stroke-width:0.8;\"/>\n      </defs>\n      <g>\n       <use style=\"stroke:#000000;stroke-width:0.8;\" x=\"26.925\" xlink:href=\"#m9cb25f511c\" y=\"554.599219\"/>\n      </g>\n     </g>\n     <g id=\"text_7\">\n      <!-- 0 -->\n      <g transform=\"translate(13.5625 558.398438)scale(0.1 -0.1)\">\n       <use xlink:href=\"#DejaVuSans-48\"/>\n      </g>\n     </g>\n    </g>\n    <g id=\"ytick_2\">\n     <g id=\"line2d_8\">\n      <g>\n       <use style=\"stroke:#000000;stroke-width:0.8;\" x=\"26.925\" xlink:href=\"#m9cb25f511c\" y=\"445.879219\"/>\n      </g>\n     </g>\n     <g id=\"text_8\">\n      <!-- 2 -->\n      <g transform=\"translate(13.5625 449.678438)scale(0.1 -0.1)\">\n       <use xlink:href=\"#DejaVuSans-50\"/>\n      </g>\n     </g>\n    </g>\n    <g id=\"ytick_3\">\n     <g id=\"line2d_9\">\n      <g>\n       <use style=\"stroke:#000000;stroke-width:0.8;\" x=\"26.925\" xlink:href=\"#m9cb25f511c\" y=\"337.159219\"/>\n      </g>\n     </g>\n     <g id=\"text_9\">\n      <!-- 4 -->\n      <g transform=\"translate(13.5625 340.958438)scale(0.1 -0.1)\">\n       <use xlink:href=\"#DejaVuSans-52\"/>\n      </g>\n     </g>\n    </g>\n    <g id=\"ytick_4\">\n     <g id=\"line2d_10\">\n      <g>\n       <use style=\"stroke:#000000;stroke-width:0.8;\" x=\"26.925\" xlink:href=\"#m9cb25f511c\" y=\"228.439219\"/>\n      </g>\n     </g>\n     <g id=\"text_10\">\n      <!-- 6 -->\n      <g transform=\"translate(13.5625 232.238438)scale(0.1 -0.1)\">\n       <use xlink:href=\"#DejaVuSans-54\"/>\n      </g>\n     </g>\n    </g>\n    <g id=\"ytick_5\">\n     <g id=\"line2d_11\">\n      <g>\n       <use style=\"stroke:#000000;stroke-width:0.8;\" x=\"26.925\" xlink:href=\"#m9cb25f511c\" y=\"119.719219\"/>\n      </g>\n     </g>\n     <g id=\"text_11\">\n      <!-- 8 -->\n      <g transform=\"translate(13.5625 123.518438)scale(0.1 -0.1)\">\n       <use xlink:href=\"#DejaVuSans-56\"/>\n      </g>\n     </g>\n    </g>\n    <g id=\"ytick_6\">\n     <g id=\"line2d_12\">\n      <g>\n       <use style=\"stroke:#000000;stroke-width:0.8;\" x=\"26.925\" xlink:href=\"#m9cb25f511c\" y=\"10.999219\"/>\n      </g>\n     </g>\n     <g id=\"text_12\">\n      <!-- 10 -->\n      <g transform=\"translate(7.2 14.798438)scale(0.1 -0.1)\">\n       <use xlink:href=\"#DejaVuSans-49\"/>\n       <use x=\"63.623047\" xlink:href=\"#DejaVuSans-48\"/>\n      </g>\n     </g>\n    </g>\n   </g>\n   <g id=\"line2d_13\">\n    <path clip-path=\"url(#pb8c04dbb4d)\" d=\"M 86.683735 498.754593 \nL 81.80142 500.239219 \n\" style=\"fill:none;stroke:#0000ff;stroke-linecap:square;stroke-width:0.1;\"/>\n   </g>\n   <g id=\"line2d_14\">\n    <path clip-path=\"url(#pb8c04dbb4d)\" d=\"M 81.80142 500.239219 \nL 82.317096 500.211515 \n\" style=\"fill:none;stroke:#0000ff;stroke-linecap:square;stroke-width:0.1;\"/>\n   </g>\n   <g id=\"line2d_15\">\n    <path clip-path=\"url(#pb8c04dbb4d)\" d=\"M 82.317096 500.211515 \nL 82.830544 500.156186 \n\" style=\"fill:none;stroke:#0000ff;stroke-linecap:square;stroke-width:0.1;\"/>\n   </g>\n   <g id=\"line2d_16\">\n    <path clip-path=\"url(#pb8c04dbb4d)\" d=\"M 82.830544 500.156186 \nL 83.340284 500.073393 \n\" style=\"fill:none;stroke:#0000ff;stroke-linecap:square;stroke-width:0.1;\"/>\n   </g>\n   <g id=\"line2d_17\">\n    <path clip-path=\"url(#pb8c04dbb4d)\" d=\"M 83.340284 500.073393 \nL 83.844848 499.963372 \n\" style=\"fill:none;stroke:#0000ff;stroke-linecap:square;stroke-width:0.1;\"/>\n   </g>\n   <g id=\"line2d_18\">\n    <path clip-path=\"url(#pb8c04dbb4d)\" d=\"M 83.844848 499.963372 \nL 84.342784 499.826443 \n\" style=\"fill:none;stroke:#0000ff;stroke-linecap:square;stroke-width:0.1;\"/>\n   </g>\n   <g id=\"line2d_19\">\n    <path clip-path=\"url(#pb8c04dbb4d)\" d=\"M 84.342784 499.826443 \nL 84.832657 499.662997 \n\" style=\"fill:none;stroke:#0000ff;stroke-linecap:square;stroke-width:0.1;\"/>\n   </g>\n   <g id=\"line2d_20\">\n    <path clip-path=\"url(#pb8c04dbb4d)\" d=\"M 84.832657 499.662997 \nL 85.313056 499.473508 \n\" style=\"fill:none;stroke:#0000ff;stroke-linecap:square;stroke-width:0.1;\"/>\n   </g>\n   <g id=\"line2d_21\">\n    <path clip-path=\"url(#pb8c04dbb4d)\" d=\"M 85.313056 499.473508 \nL 85.782597 499.258519 \n\" style=\"fill:none;stroke:#0000ff;stroke-linecap:square;stroke-width:0.1;\"/>\n   </g>\n   <g id=\"line2d_22\">\n    <path clip-path=\"url(#pb8c04dbb4d)\" d=\"M 85.782597 499.258519 \nL 86.23993 499.018651 \n\" style=\"fill:none;stroke:#0000ff;stroke-linecap:square;stroke-width:0.1;\"/>\n   </g>\n   <g id=\"line2d_23\">\n    <path clip-path=\"url(#pb8c04dbb4d)\" d=\"M 86.23993 499.018651 \nL 86.683735 498.754593 \n\" style=\"fill:none;stroke:#0000ff;stroke-linecap:square;stroke-width:0.1;\"/>\n   </g>\n   <g id=\"patch_8\">\n    <path d=\"M 26.925 554.599219 \nL 26.925 10.999219 \n\" style=\"fill:none;stroke:#000000;stroke-linecap:square;stroke-linejoin:miter;stroke-width:0.8;\"/>\n   </g>\n   <g id=\"patch_9\">\n    <path d=\"M 570.525 554.599219 \nL 570.525 10.999219 \n\" style=\"fill:none;stroke:#000000;stroke-linecap:square;stroke-linejoin:miter;stroke-width:0.8;\"/>\n   </g>\n   <g id=\"patch_10\">\n    <path d=\"M 26.925 554.599219 \nL 570.525 554.599219 \n\" style=\"fill:none;stroke:#000000;stroke-linecap:square;stroke-linejoin:miter;stroke-width:0.8;\"/>\n   </g>\n   <g id=\"patch_11\">\n    <path d=\"M 26.925 10.999219 \nL 570.525 10.999219 \n\" style=\"fill:none;stroke:#000000;stroke-linecap:square;stroke-linejoin:miter;stroke-width:0.8;\"/>\n   </g>\n  </g>\n </g>\n <defs>\n  <clipPath id=\"pb8c04dbb4d\">\n   <rect height=\"543.6\" width=\"543.6\" x=\"26.925\" y=\"10.999219\"/>\n  </clipPath>\n </defs>\n</svg>\n",
      "image/png": "[encoded data removed]"
     },
     "metadata": {
      "needs_background": "light"
     }
    }
   ],
   "source": [
    "fig, ax = plt.subplots(figsize = (10, 10))\n",
    "ax.set(xlim=(0, 10), ylim = (0,10))\n",
    "ax = viz.addObstacles2Map(ax)\n",
    "ax.set_aspect(\"equal\")\n",
    "for node in traversed_nodes:\n",
    "    xi, yi, _ = node.getState()\n",
    "    points = node.getPathArray()\n",
    "    print(points)\n",
    "    if points is not None:\n",
    "        for point in points:\n",
    "            xn, yn = point\n",
    "            ax.plot([xi, xn], [yi, yn], color=\"blue\", linewidth = 0.1 )\n",
    "            xi, yi = xn, yn\n",
    "\n",
    "    "
   ]
  },
  {
   "cell_type": "code",
   "execution_count": 13,
   "metadata": {},
   "outputs": [
    {
     "output_type": "execute_result",
     "data": {
      "text/plain": [
       "68"
      ]
     },
     "metadata": {},
     "execution_count": 13
    }
   ],
   "source": [
    "len(traversed_nodes)"
   ]
  },
  {
   "cell_type": "code",
   "execution_count": null,
   "metadata": {},
   "outputs": [],
   "source": []
  }
 ]
}